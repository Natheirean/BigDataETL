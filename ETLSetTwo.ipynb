{
  "nbformat": 4,
  "nbformat_minor": 0,
  "metadata": {
    "colab": {
      "name": "ETLSetTwo.ipynb",
      "provenance": [],
      "collapsed_sections": []
    },
    "kernelspec": {
      "name": "python3",
      "display_name": "Python 3"
    },
    "language_info": {
      "name": "python"
    }
  },
  "cells": [
    {
      "cell_type": "code",
      "execution_count": null,
      "metadata": {
        "colab": {
          "base_uri": "https://localhost:8080/"
        },
        "id": "un2FuJJWaju5",
        "outputId": "924397e2-c09d-42a7-dd28-b472a77b2c92"
      },
      "outputs": [
        {
          "output_type": "stream",
          "name": "stdout",
          "text": [
            "Get:1 https://cloud.r-project.org/bin/linux/ubuntu bionic-cran40/ InRelease [3,626 B]\n",
            "Ign:2 https://developer.download.nvidia.com/compute/cuda/repos/ubuntu1804/x86_64  InRelease\n",
            "Ign:3 https://developer.download.nvidia.com/compute/machine-learning/repos/ubuntu1804/x86_64  InRelease\n",
            "Get:4 https://developer.download.nvidia.com/compute/cuda/repos/ubuntu1804/x86_64  Release [696 B]\n",
            "Hit:5 https://developer.download.nvidia.com/compute/machine-learning/repos/ubuntu1804/x86_64  Release\n",
            "Get:6 http://ppa.launchpad.net/c2d4u.team/c2d4u4.0+/ubuntu bionic InRelease [15.9 kB]\n",
            "Hit:7 http://archive.ubuntu.com/ubuntu bionic InRelease\n",
            "Get:8 https://developer.download.nvidia.com/compute/cuda/repos/ubuntu1804/x86_64  Release.gpg [836 B]\n",
            "Get:9 https://cloud.r-project.org/bin/linux/ubuntu bionic-cran40/ Packages [76.8 kB]\n",
            "Get:10 http://security.ubuntu.com/ubuntu bionic-security InRelease [88.7 kB]\n",
            "Get:11 http://archive.ubuntu.com/ubuntu bionic-updates InRelease [88.7 kB]\n",
            "Hit:13 http://ppa.launchpad.net/cran/libgit2/ubuntu bionic InRelease\n",
            "Get:14 http://archive.ubuntu.com/ubuntu bionic-backports InRelease [74.6 kB]\n",
            "Hit:15 http://ppa.launchpad.net/deadsnakes/ppa/ubuntu bionic InRelease\n",
            "Get:16 https://developer.download.nvidia.com/compute/cuda/repos/ubuntu1804/x86_64  Packages [931 kB]\n",
            "Get:17 http://ppa.launchpad.net/graphics-drivers/ppa/ubuntu bionic InRelease [21.3 kB]\n",
            "Get:18 http://ppa.launchpad.net/c2d4u.team/c2d4u4.0+/ubuntu bionic/main Sources [1,827 kB]\n",
            "Get:19 http://security.ubuntu.com/ubuntu bionic-security/main amd64 Packages [2,596 kB]\n",
            "Get:20 http://archive.ubuntu.com/ubuntu bionic-updates/main amd64 Packages [3,036 kB]\n",
            "Get:21 http://security.ubuntu.com/ubuntu bionic-security/universe amd64 Packages [1,474 kB]\n",
            "Get:22 http://security.ubuntu.com/ubuntu bionic-security/restricted amd64 Packages [806 kB]\n",
            "Get:23 http://ppa.launchpad.net/c2d4u.team/c2d4u4.0+/ubuntu bionic/main amd64 Packages [936 kB]\n",
            "Get:24 http://archive.ubuntu.com/ubuntu bionic-updates/universe amd64 Packages [2,252 kB]\n",
            "Get:25 http://archive.ubuntu.com/ubuntu bionic-updates/restricted amd64 Packages [840 kB]\n",
            "Get:26 http://ppa.launchpad.net/graphics-drivers/ppa/ubuntu bionic/main amd64 Packages [42.8 kB]\n",
            "Fetched 15.1 MB in 7s (2,111 kB/s)\n",
            "Reading package lists... Done\n"
          ]
        }
      ],
      "source": [
        "import os\n",
        "# Find the latest version of spark 3.0  from http://www.apache.org/dist/spark/ and enter as the spark version\n",
        "# For example:\n",
        "# spark_version = 'spark-3.0.3'\n",
        "spark_version = 'spark-3.2.1'\n",
        "os.environ['SPARK_VERSION']=spark_version\n",
        "\n",
        "# Install Spark and Java\n",
        "!apt-get update\n",
        "!apt-get install openjdk-8-jdk-headless -qq > /dev/null\n",
        "!wget -q http://www.apache.org/dist/spark/$SPARK_VERSION/$SPARK_VERSION-bin-hadoop2.7.tgz\n",
        "!tar xf $SPARK_VERSION-bin-hadoop2.7.tgz\n",
        "!pip install -q findspark\n",
        "\n",
        "# Set Environment Variables\n",
        "import os\n",
        "os.environ[\"JAVA_HOME\"] = \"/usr/lib/jvm/java-8-openjdk-amd64\"\n",
        "os.environ[\"SPARK_HOME\"] = f\"/content/{spark_version}-bin-hadoop2.7\"\n",
        "\n",
        "# Start a SparkSession\n",
        "import findspark\n",
        "findspark.init()"
      ]
    },
    {
      "cell_type": "code",
      "source": [
        "!wget https://jdbc.postgresql.org/download/postgresql-42.2.9.jar"
      ],
      "metadata": {
        "colab": {
          "base_uri": "https://localhost:8080/"
        },
        "id": "m7nSd5Uval46",
        "outputId": "bc8036bf-032a-46ef-ae8b-772a9aa0b1b9"
      },
      "execution_count": null,
      "outputs": [
        {
          "output_type": "stream",
          "name": "stdout",
          "text": [
            "--2022-03-07 08:07:39--  https://jdbc.postgresql.org/download/postgresql-42.2.9.jar\n",
            "Resolving jdbc.postgresql.org (jdbc.postgresql.org)... 72.32.157.228, 2001:4800:3e1:1::228\n",
            "Connecting to jdbc.postgresql.org (jdbc.postgresql.org)|72.32.157.228|:443... connected.\n",
            "HTTP request sent, awaiting response... 200 OK\n",
            "Length: 914037 (893K) [application/java-archive]\n",
            "Saving to: ‘postgresql-42.2.9.jar’\n",
            "\n",
            "postgresql-42.2.9.j 100%[===================>] 892.61K   933KB/s    in 1.0s    \n",
            "\n",
            "2022-03-07 08:07:41 (933 KB/s) - ‘postgresql-42.2.9.jar’ saved [914037/914037]\n",
            "\n"
          ]
        }
      ]
    },
    {
      "cell_type": "code",
      "source": [
        "from pyspark.sql import SparkSession\n",
        "spark = SparkSession.builder.appName(\"CloudETL\").config(\"spark.driver.extraClassPath\",\"/content/postgresql-42.2.9.jar\").getOrCreate()"
      ],
      "metadata": {
        "id": "PDIXE85KanCy"
      },
      "execution_count": null,
      "outputs": []
    },
    {
      "cell_type": "code",
      "source": [
        "from pyspark.sql.types import StructType,StructField, StringType, IntegerType, DateType"
      ],
      "metadata": {
        "id": "gGPPXkfOaoRt"
      },
      "execution_count": null,
      "outputs": []
    },
    {
      "cell_type": "code",
      "source": [
        "# Read in data from S3 Buckets\n",
        "from pyspark import SparkFiles\n",
        "url=\"https://s3.amazonaws.com/amazon-reviews-pds/tsv/amazon_reviews_us_Video_v1_00.tsv.gz\"\n",
        "spark.sparkContext.addFile(url)\n",
        "schema = StructType([\n",
        "  StructField(\"marketplace\",StringType(),True),\n",
        "  StructField(\"customer_id\",IntegerType(),True),\n",
        "  StructField(\"review_id\",StringType(),True),\n",
        "  StructField(\"product_id\", StringType(), True),\n",
        "  StructField(\"product_parent\",IntegerType(),True),\n",
        "  StructField(\"product_title\",StringType(),True),\n",
        "  StructField(\"product_category\",StringType(),True),\n",
        "  StructField(\"star_rating\",IntegerType(),True),\n",
        "  StructField(\"helpful_votes\",IntegerType(),True),\n",
        "  StructField(\"total_votes\",IntegerType(),True),\n",
        "  StructField(\"vine\",StringType(),True),\n",
        "  StructField(\"verified_purchase\",StringType(),True),\n",
        "  StructField(\"review_headline\",StringType(),True),\n",
        "  StructField(\"review_body\",StringType(),True),\n",
        "  StructField(\"review_date\",DateType(),True)\n",
        "])\n",
        "user_data_df = spark.read.csv(SparkFiles.get(\"amazon_reviews_us_Video_v1_00.tsv.gz\"), sep=\"\\t\", header=True, schema=schema, timestampFormat=\"yyyy-mm-dd\")\n",
        "\n",
        "# Show DataFrame\n",
        "user_data_df.show()"
      ],
      "metadata": {
        "colab": {
          "base_uri": "https://localhost:8080/"
        },
        "id": "E1s_iUxua6VQ",
        "outputId": "010a00ac-393a-4858-8191-10a2762947c1"
      },
      "execution_count": null,
      "outputs": [
        {
          "output_type": "stream",
          "name": "stdout",
          "text": [
            "+-----------+-----------+--------------+----------+--------------+--------------------+----------------+-----------+-------------+-----------+----+-----------------+--------------------+--------------------+-----------+\n",
            "|marketplace|customer_id|     review_id|product_id|product_parent|       product_title|product_category|star_rating|helpful_votes|total_votes|vine|verified_purchase|     review_headline|         review_body|review_date|\n",
            "+-----------+-----------+--------------+----------+--------------+--------------------+----------------+-----------+-------------+-----------+----+-----------------+--------------------+--------------------+-----------+\n",
            "|         US|   49033728|R1P1G5KZ05H6RD|6302503213|     748506413|The Night They Sa...|           Video|          5|            0|          0|   N|                Y|    Very satisfied!!|Fast shipping. Pl...| 2015-08-31|\n",
            "|         US|   17857748|R106N066IUN8ZV|B000059PET|     478710180|Hamlet / Kline, N...|           Video|          5|            0|          0|   N|                Y|The most talented...|Kevin Kline is th...| 2015-08-31|\n",
            "|         US|   25551507| R7WTAA1S5O7D9|0788812807|     981002815|Nascar Dual Power...|           Video|          4|            0|          0|   N|                Y|          Four Stars|         great movie| 2015-08-31|\n",
            "|         US|   21025041|R32HFMVWLYOYJK|6302509939|     333219811|The Man From U.N....|           Video|          5|            0|          0|   N|                Y|          Five Stars|i love the martin...| 2015-08-31|\n",
            "|         US|   40943563| RWT3H6HBVAL6G|B00JENS2BI|     538101194|Playboy Video Par...|           Video|          3|            0|          0|   N|                N|HOT women, dumb j...|Y'know what this ...| 2015-08-31|\n",
            "|         US|   17013969|R1S3T3GWUGQTW7|6305761302|     716303278|Cabaret Balkan - ...|           Video|          5|            0|          0|   N|                Y|          Five Stars|Wonderfully accur...| 2015-08-31|\n",
            "|         US|   47611685|R3R0QYHA800REE|6300157555|     134996462|Wrinkles:in Need ...|           Video|          4|            0|          0|   N|                Y|          Four Stars|In great shape fo...| 2015-08-31|\n",
            "|         US|   35680737|R1FR0EQPHPW5NM|6300189570|     498116870|Ladies Club,the [...|           Video|          4|            1|          2|   N|                N|          Four Stars|When are they goi...| 2015-08-31|\n",
            "|         US|   10747909| RGORN81H45NI7|B000SXQ5US|      77519275|The Campitelli Ad...|           Video|          5|            1|          1|   N|                Y|I was thrilled to...|This is the best ...| 2015-08-31|\n",
            "|         US|     126341|R1CNYN4ABNOJSU|B00008F22G|     917778300|Return of the Jed...|           Video|          5|            0|          0|   N|                Y|          Five Stars|I'm very pleased ...| 2015-08-31|\n",
            "|         US|   40676812|R2DW06821PMN40|6303453961|     187850980|  Class of '61 [VHS]|           Video|          3|            0|          0|   N|                Y|         Three Stars|      Poor quality--| 2015-08-31|\n",
            "|         US|   19863533|R1CS8AMA8B0VBJ|6302453178|     901056605|Texas Carnival [VHS]|           Video|          5|            0|          0|   N|                Y|Texas Carnival movie|Great Howard Keel...| 2015-08-31|\n",
            "|         US|   13308975|R343CPRI4MC9J0|6304475330|     472277071|National Geograph...|           Video|          5|            0|          0|   N|                N|One of my All Tim...|I loved this vide...| 2015-08-31|\n",
            "|         US|    1989554| R3XP0G8P2BOTP|B000XPQ18W|     627738468| The Intruder Within|           Video|          5|            1|          2|   N|                Y|          Five Stars|excellent, no com...| 2015-08-31|\n",
            "|         US|   14885930|R3NK7014K996PF|0800113055|     585148093|It Happened One N...|           Video|          2|            0|          4|   N|                Y|        Almost great|Was soon looking ...| 2015-08-31|\n",
            "|         US|   24203443| ROIQI6ZW6UVL9|6300133338|     966466095|       Robbery [VHS]|           Video|          5|            0|          0|   N|                Y|Based on the grea...|Based on the grea...| 2015-08-31|\n",
            "|         US|   14885930| RECPIN4UZI76Z|6304119054|     399731786|The Magnificent A...|           Video|          2|            0|          2|   N|                Y|           Not great|Honestly I didn't...| 2015-08-31|\n",
            "|         US|   41133700|R3FE5KO613PMVI|B000006CPD|     509239068|     Streamers [VHS]|           Video|          1|            0|          0|   N|                Y|Low quality recor...|Movie is great - ...| 2015-08-31|\n",
            "|         US|   46580399|R2EC74PS45RAOR|189218608X|     773411366|Special Kids Spee...|           Video|          5|            0|          0|   N|                Y|          Five Stars|These tapes are a...| 2015-08-31|\n",
            "|         US|   19863533|R3FZ5C78PP7ZD7|6302754348|     536886134|Arizona Bushwhack...|           Video|          5|            1|          1|   N|                Y|Arizona Bushwacke...|Awesome Howard Ke...| 2015-08-31|\n",
            "+-----------+-----------+--------------+----------+--------------+--------------------+----------------+-----------+-------------+-----------+----+-----------------+--------------------+--------------------+-----------+\n",
            "only showing top 20 rows\n",
            "\n"
          ]
        }
      ]
    },
    {
      "cell_type": "code",
      "source": [
        "user_data_df = user_data_df.dropna()"
      ],
      "metadata": {
        "id": "EAcTNz4OdItu"
      },
      "execution_count": null,
      "outputs": []
    },
    {
      "cell_type": "code",
      "source": [
        "reviews_df = user_data_df.select(\"review_id\", \"customer_id\", \"product_id\", \"product_parent\", \"review_date\")\n",
        "reviews_df.show()"
      ],
      "metadata": {
        "colab": {
          "base_uri": "https://localhost:8080/"
        },
        "id": "8mn2kkJ2a_ca",
        "outputId": "8b617e9e-eec9-463b-ef72-3545bee72b39"
      },
      "execution_count": null,
      "outputs": [
        {
          "output_type": "stream",
          "name": "stdout",
          "text": [
            "+--------------+-----------+----------+--------------+-----------+\n",
            "|     review_id|customer_id|product_id|product_parent|review_date|\n",
            "+--------------+-----------+----------+--------------+-----------+\n",
            "|R1P1G5KZ05H6RD|   49033728|6302503213|     748506413| 2015-08-31|\n",
            "|R106N066IUN8ZV|   17857748|B000059PET|     478710180| 2015-08-31|\n",
            "| R7WTAA1S5O7D9|   25551507|0788812807|     981002815| 2015-08-31|\n",
            "|R32HFMVWLYOYJK|   21025041|6302509939|     333219811| 2015-08-31|\n",
            "| RWT3H6HBVAL6G|   40943563|B00JENS2BI|     538101194| 2015-08-31|\n",
            "|R1S3T3GWUGQTW7|   17013969|6305761302|     716303278| 2015-08-31|\n",
            "|R3R0QYHA800REE|   47611685|6300157555|     134996462| 2015-08-31|\n",
            "|R1FR0EQPHPW5NM|   35680737|6300189570|     498116870| 2015-08-31|\n",
            "| RGORN81H45NI7|   10747909|B000SXQ5US|      77519275| 2015-08-31|\n",
            "|R1CNYN4ABNOJSU|     126341|B00008F22G|     917778300| 2015-08-31|\n",
            "|R2DW06821PMN40|   40676812|6303453961|     187850980| 2015-08-31|\n",
            "|R1CS8AMA8B0VBJ|   19863533|6302453178|     901056605| 2015-08-31|\n",
            "|R343CPRI4MC9J0|   13308975|6304475330|     472277071| 2015-08-31|\n",
            "| R3XP0G8P2BOTP|    1989554|B000XPQ18W|     627738468| 2015-08-31|\n",
            "|R3NK7014K996PF|   14885930|0800113055|     585148093| 2015-08-31|\n",
            "| ROIQI6ZW6UVL9|   24203443|6300133338|     966466095| 2015-08-31|\n",
            "| RECPIN4UZI76Z|   14885930|6304119054|     399731786| 2015-08-31|\n",
            "|R3FE5KO613PMVI|   41133700|B000006CPD|     509239068| 2015-08-31|\n",
            "|R2EC74PS45RAOR|   46580399|189218608X|     773411366| 2015-08-31|\n",
            "|R3FZ5C78PP7ZD7|   19863533|6302754348|     536886134| 2015-08-31|\n",
            "+--------------+-----------+----------+--------------+-----------+\n",
            "only showing top 20 rows\n",
            "\n"
          ]
        }
      ]
    },
    {
      "cell_type": "code",
      "source": [
        "products_df = user_data_df.select(\"product_id\", \"product_title\")\n",
        "products_df = products_df.distinct()\n",
        "products_df.show()"
      ],
      "metadata": {
        "colab": {
          "base_uri": "https://localhost:8080/"
        },
        "id": "yDgM5GagdDXW",
        "outputId": "7f62b3c8-4733-4ea9-c7e9-020fed5499d7"
      },
      "execution_count": null,
      "outputs": [
        {
          "output_type": "stream",
          "name": "stdout",
          "text": [
            "+----------+--------------------+\n",
            "|product_id|       product_title|\n",
            "+----------+--------------------+\n",
            "|0788806270|Bambi (Walt Disne...|\n",
            "|078881107X|Kiki's Delivery S...|\n",
            "|6303559018|To Catch a Yeti [...|\n",
            "|6302844061|      Silkwood [VHS]|\n",
            "|B00003XAMY|Wagons Roll at Ni...|\n",
            "|0783216084|          Jaws [VHS]|\n",
            "|6301966376|The Compleat Beat...|\n",
            "|6303315429| Yoga for Life [VHS]|\n",
            "|6302969204|Miracle in Milan ...|\n",
            "|6301540441|As Summers Die [VHS]|\n",
            "|6304611366|Loretta Young Sho...|\n",
            "|1559838450|Hans Christian An...|\n",
            "|6304263198|   Latcho Drom [VHS]|\n",
            "|6301017250|Dead Don't Die [VHS]|\n",
            "|6301782135|John Hammond: Fro...|\n",
            "|6304925158|The Education of ...|\n",
            "|6305403309| Dead Husbands [VHS]|\n",
            "|6300152936|       Faeries [VHS]|\n",
            "|B0000897E9|  Femme Fatale [VHS]|\n",
            "|B0002X4MIQ|Touched By An Ang...|\n",
            "+----------+--------------------+\n",
            "only showing top 20 rows\n",
            "\n"
          ]
        }
      ]
    },
    {
      "cell_type": "code",
      "source": [
        "customers_df = user_data_df.groupBy('customer_id').count()\n",
        "customers_df = customers_df.withColumnRenamed(\"count\", \"customer_count\")\n",
        "customers_df.show()"
      ],
      "metadata": {
        "colab": {
          "base_uri": "https://localhost:8080/"
        },
        "id": "H1AupQp8dL2j",
        "outputId": "114a290c-3886-4dd3-a410-f4060600aa11"
      },
      "execution_count": null,
      "outputs": [
        {
          "output_type": "stream",
          "name": "stdout",
          "text": [
            "+-----------+--------------+\n",
            "|customer_id|customer_count|\n",
            "+-----------+--------------+\n",
            "|   35645596|             1|\n",
            "|   50851028|             1|\n",
            "|   20686161|             2|\n",
            "|   15191478|             2|\n",
            "|    2202715|             1|\n",
            "|   48333068|             1|\n",
            "|   22910908|             2|\n",
            "|   38463562|             1|\n",
            "|   26902200|             1|\n",
            "|   10546543|             1|\n",
            "|   33236947|             1|\n",
            "|   40127650|             1|\n",
            "|   41244127|             3|\n",
            "|   22968117|             1|\n",
            "|   25472255|             1|\n",
            "|    3160356|             1|\n",
            "|   18785199|             2|\n",
            "|   19840529|             1|\n",
            "|    1655605|             1|\n",
            "|   14676950|             3|\n",
            "+-----------+--------------+\n",
            "only showing top 20 rows\n",
            "\n"
          ]
        }
      ]
    },
    {
      "cell_type": "code",
      "source": [
        "mode = \"append\"\n",
        "jdbc_url=\"jdbc:postgresql://{endpoint}:5432/{database}\"\n",
        "config = {\"user\":\"root\", \n",
        "          \"password\": \"password\", \n",
        "          \"driver\":\"org.postgresql.Driver\"}"
      ],
      "metadata": {
        "id": "T64is9NcdNZL"
      },
      "execution_count": null,
      "outputs": []
    },
    {
      "cell_type": "code",
      "source": [
        "reviews_df.write.jdbc(url=jdbc_url, table='review_id_table', mode=mode, properties=config)"
      ],
      "metadata": {
        "id": "pitgG77DdOvq"
      },
      "execution_count": null,
      "outputs": []
    },
    {
      "cell_type": "code",
      "source": [
        "products_df.write.jdbc(url=jdbc_url, table='products', mode=mode, properties=config)"
      ],
      "metadata": {
        "id": "fp0kkbo8dRId"
      },
      "execution_count": null,
      "outputs": []
    },
    {
      "cell_type": "code",
      "source": [
        "customers_df.write.jdbc(url=jdbc_url, table='customers', mode=mode, properties=config)"
      ],
      "metadata": {
        "id": "b7pxaPuMdUZX"
      },
      "execution_count": null,
      "outputs": []
    },
    {
      "cell_type": "code",
      "source": [
        ""
      ],
      "metadata": {
        "id": "E-PJ_umWdVp2"
      },
      "execution_count": null,
      "outputs": []
    }
  ]
}